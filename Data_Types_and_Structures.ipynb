{
  "nbformat": 4,
  "nbformat_minor": 0,
  "metadata": {
    "colab": {
      "provenance": []
    },
    "kernelspec": {
      "name": "python3",
      "display_name": "Python 3"
    },
    "language_info": {
      "name": "python"
    }
  },
  "cells": [
    {
      "cell_type": "code",
      "execution_count": null,
      "metadata": {
        "id": "YA2ARHzYSUUU"
      },
      "outputs": [],
      "source": []
    },
    {
      "cell_type": "markdown",
      "source": [
        "Data Types and Structures\n"
      ],
      "metadata": {
        "id": "tcKuwo2jSVUb"
      }
    },
    {
      "cell_type": "markdown",
      "source": [
        "1. What are data structures, and why are they important?\n",
        " - They are ways to organize and store the data. They make the data easy to use and efficient.\n",
        " 2. Explain the difference between mutable and immutable data types with examples.\n",
        "  - Mutable = changeable (list, dict),\n",
        "     Immutable = not changeable (string, tuple).\n",
        "3. What are the main differences between lists and tuples in Python?\n",
        " - Lists are mutable, use[]\n",
        "   Tuples are immutable, use()\n",
        "4. Describe how dictionaries store data.\n",
        " - They stores the data as key value pairs.\n",
        "5. Why might you use a set instead of a list in Python?\n",
        " - To store unique values and remove duplicates.\n",
        "6. What is a string in Python, and how is it different from a list?\n",
        " - String = sequence of characters (immutable).\n",
        "   List = sequence of items (mutable).\n",
        "7. How do tuples ensure data integrity in Python?\n",
        " - They are immutable, so data cannot change.\n",
        "8.  What is a hash table, and how does it relate to dictionaries in Python?\n",
        " - Don't know the answer.\n",
        "9.  Can lists contain different data types in Python?\n",
        " - Yes, it contains different.\n",
        "10. Explain why strings are immutable in Python.\n",
        " -  So they are safe, fast, and memory-efficient.\n",
        "11. What advantages do dictionaries offer over lists for certain tasks?\n",
        " -  Faster lookup using keys instead of searching through items.\n",
        "12. Describe a scenario where using a tuple would be preferable over a list.\n",
        " - When storing fixed data like coordinates (x, y).\n",
        "13. How do sets handle duplicate values in Python?\n",
        " - They automatically remove duplicates.14. How does the “in” keyword work differently for lists and dictionaries?\n",
        " - List: checks if value is present.\n",
        "  Dict: checks if key is present.\n",
        "15.Can you modify the elements of a tuple? Explain why or why not?\n",
        " - No, because tuples are immutable.\n",
        "16.What is a nested dictionary, and give an example of its use case?\n",
        " - A dictionary inside another dictionary. Example: student info with subjects and marks.\n",
        "17. Describe the time complexity of accessing elements in a dictionary.\n",
        " -  O(1) on average (very fast).\n",
        "18. In what situations are lists preferred over dictionaries?\n",
        " -  When order matters or only values are needed.\n",
        "19.  Why are dictionaries considered unordered, and how does that affect data retrieva?\n",
        " - They don’t keep insertion order (before Python 3.7). You can’t rely on order when looping.\n",
        "20.  Explain the difference between a list and a dictionary in terms of data retrieval.\n",
        " - List: access by index.\n",
        "   Dictionary: access by key.\n",
        "\n",
        "\n",
        "\n",
        ""
      ],
      "metadata": {
        "id": "7aGFkHQNSfST"
      }
    },
    {
      "cell_type": "markdown",
      "source": [
        "Practical Questions"
      ],
      "metadata": {
        "id": "H3G2jf-X0tro"
      }
    },
    {
      "cell_type": "code",
      "source": [
        "#1. Write a code to create a string with your name and print it.\n",
        "name = \"Ashwini\"\n",
        "print(name)\n",
        "\n",
        "\n"
      ],
      "metadata": {
        "colab": {
          "base_uri": "https://localhost:8080/"
        },
        "id": "VC6pD2seSdHw",
        "outputId": "9cce39aa-6880-4274-8822-28db2b6df214"
      },
      "execution_count": 1,
      "outputs": [
        {
          "output_type": "stream",
          "name": "stdout",
          "text": [
            "Ashwini\n"
          ]
        }
      ]
    },
    {
      "cell_type": "code",
      "source": [
        "#2. Write a code to find the length of the string \"Hello World\".\n",
        "a = \"Hello World\"\n",
        "print(len(a))"
      ],
      "metadata": {
        "colab": {
          "base_uri": "https://localhost:8080/"
        },
        "id": "BZIGwwkRBVez",
        "outputId": "d2ac31c2-0958-4ed2-ae9e-64d0f273b8cb"
      },
      "execution_count": 2,
      "outputs": [
        {
          "output_type": "stream",
          "name": "stdout",
          "text": [
            "11\n"
          ]
        }
      ]
    },
    {
      "cell_type": "code",
      "source": [
        "#3. Write a code to slice the first 3 characters from the string \"Python Programming\".\n",
        "b =\"Python programming\"\n",
        "b[:3]\n"
      ],
      "metadata": {
        "colab": {
          "base_uri": "https://localhost:8080/",
          "height": 36
        },
        "id": "M0L8IfbpBkUO",
        "outputId": "d756f0ea-a138-43aa-ba9b-ae69b8a6feae"
      },
      "execution_count": 3,
      "outputs": [
        {
          "output_type": "execute_result",
          "data": {
            "text/plain": [
              "'Pyt'"
            ],
            "application/vnd.google.colaboratory.intrinsic+json": {
              "type": "string"
            }
          },
          "metadata": {},
          "execution_count": 3
        }
      ]
    },
    {
      "cell_type": "code",
      "source": [
        "#4.  Write a code to convert the string \"hello\" to uppercase.\n",
        "c = \"hello\"\n",
        "c.upper()"
      ],
      "metadata": {
        "colab": {
          "base_uri": "https://localhost:8080/",
          "height": 36
        },
        "id": "puErX5uQCMeD",
        "outputId": "aa20603d-a7b6-42a7-d8b6-7147fddc2ee1"
      },
      "execution_count": 4,
      "outputs": [
        {
          "output_type": "execute_result",
          "data": {
            "text/plain": [
              "'HELLO'"
            ],
            "application/vnd.google.colaboratory.intrinsic+json": {
              "type": "string"
            }
          },
          "metadata": {},
          "execution_count": 4
        }
      ]
    },
    {
      "cell_type": "code",
      "source": [
        "#5. Write a code to replace the word \"apple\" with \"orange\" in the string \"I like apple\".\n",
        "d = \"I like apple\"\n",
        "d.replace(\"apple\", \"orange\")\n"
      ],
      "metadata": {
        "colab": {
          "base_uri": "https://localhost:8080/",
          "height": 36
        },
        "id": "-6s3QGlLCZN-",
        "outputId": "2a9a7413-faf0-4631-fec1-b8b03a6d8a38"
      },
      "execution_count": 5,
      "outputs": [
        {
          "output_type": "execute_result",
          "data": {
            "text/plain": [
              "'I like orange'"
            ],
            "application/vnd.google.colaboratory.intrinsic+json": {
              "type": "string"
            }
          },
          "metadata": {},
          "execution_count": 5
        }
      ]
    },
    {
      "cell_type": "code",
      "source": [
        "#6.  Write a code to create a list with numbers 1 to 5 and print it.\n",
        "number= [1, 2, 3, 4, 5]\n",
        "print(number)"
      ],
      "metadata": {
        "colab": {
          "base_uri": "https://localhost:8080/"
        },
        "id": "g6v0V4WuC4Jy",
        "outputId": "1ab040f4-eef1-4741-ae88-036d4a9e6955"
      },
      "execution_count": 6,
      "outputs": [
        {
          "output_type": "stream",
          "name": "stdout",
          "text": [
            "[1, 2, 3, 4, 5]\n"
          ]
        }
      ]
    },
    {
      "cell_type": "code",
      "source": [
        "#OR\n",
        "num = list(range(1, 6))\n",
        "print(num)"
      ],
      "metadata": {
        "colab": {
          "base_uri": "https://localhost:8080/"
        },
        "id": "f7meu2DbDPLC",
        "outputId": "dbf777dd-c9ef-4133-9f15-1205405ae306"
      },
      "execution_count": 7,
      "outputs": [
        {
          "output_type": "stream",
          "name": "stdout",
          "text": [
            "[1, 2, 3, 4, 5]\n"
          ]
        }
      ]
    },
    {
      "cell_type": "code",
      "source": [
        "#7.  Write a code to append the number 10 to the list [1, 2, 3, 4].\n",
        "d = [1, 2, 3, 4]\n",
        "d.append(10)\n",
        "print(d)\n"
      ],
      "metadata": {
        "colab": {
          "base_uri": "https://localhost:8080/"
        },
        "id": "73o9mHRkDu68",
        "outputId": "fcd6cb05-e039-4c9f-a7cb-680788cb2bbc"
      },
      "execution_count": 9,
      "outputs": [
        {
          "output_type": "stream",
          "name": "stdout",
          "text": [
            "[1, 2, 3, 4, 10]\n"
          ]
        }
      ]
    },
    {
      "cell_type": "code",
      "source": [
        "#8.  Write a code to remove the number 3 from the list [1, 2, 3, 4, 5]\n",
        "list = [1, 2, 3, 4, 5]\n",
        "list.remove(3)\n",
        "print(list)\n",
        ""
      ],
      "metadata": {
        "colab": {
          "base_uri": "https://localhost:8080/"
        },
        "id": "l_b3AvJeEFKp",
        "outputId": "49b68469-5097-4c98-e158-35aa24bff425"
      },
      "execution_count": 11,
      "outputs": [
        {
          "output_type": "stream",
          "name": "stdout",
          "text": [
            "[1, 2, 4, 5]\n"
          ]
        }
      ]
    },
    {
      "cell_type": "code",
      "source": [
        "#9. Write a code to access the second element in the list ['a', 'b', 'c', 'd'].\n",
        "s = [ 'a', 'b', 'c', 'd']\n",
        "print(s[1])\n"
      ],
      "metadata": {
        "colab": {
          "base_uri": "https://localhost:8080/"
        },
        "id": "RmX8XD8wEVrz",
        "outputId": "89ad180f-0da0-42ff-f604-9a3d32710eb8"
      },
      "execution_count": 12,
      "outputs": [
        {
          "output_type": "stream",
          "name": "stdout",
          "text": [
            "b\n"
          ]
        }
      ]
    },
    {
      "cell_type": "code",
      "source": [
        "#10. Write a code to reverse the list [10, 20, 30, 40, 50].\n",
        "f = [10, 20, 30, 40, 50]\n",
        "print(f[::-1])"
      ],
      "metadata": {
        "colab": {
          "base_uri": "https://localhost:8080/"
        },
        "id": "sr6nIfTKFF9X",
        "outputId": "4a7c494b-980e-4b07-a24e-428823392d4c"
      },
      "execution_count": 13,
      "outputs": [
        {
          "output_type": "stream",
          "name": "stdout",
          "text": [
            "[50, 40, 30, 20, 10]\n"
          ]
        }
      ]
    },
    {
      "cell_type": "code",
      "source": [
        "#OR\n",
        "f.reverse()\n",
        "print(f)"
      ],
      "metadata": {
        "colab": {
          "base_uri": "https://localhost:8080/"
        },
        "id": "0PixUAjLFXnN",
        "outputId": "96885398-07ca-456f-d567-4d5180ab5f4e"
      },
      "execution_count": 14,
      "outputs": [
        {
          "output_type": "stream",
          "name": "stdout",
          "text": [
            "[50, 40, 30, 20, 10]\n"
          ]
        }
      ]
    },
    {
      "cell_type": "code",
      "source": [
        "#11. Write a code to create a tuple with the elements 100, 200, 300 and print it.\n",
        "my_tuple = (100, 200, 300)\n",
        "print(my_tuple)"
      ],
      "metadata": {
        "colab": {
          "base_uri": "https://localhost:8080/"
        },
        "id": "BxVloLzGFufJ",
        "outputId": "7bb5673d-dd44-4ec9-9664-0b5a798638cf"
      },
      "execution_count": 15,
      "outputs": [
        {
          "output_type": "stream",
          "name": "stdout",
          "text": [
            "(100, 200, 300)\n"
          ]
        }
      ]
    },
    {
      "cell_type": "code",
      "source": [
        "#12.  Write a code to access the second-to-last element of the tuple ('red', 'green', 'blue', 'yellow').\n",
        "g = ('red', 'grees', 'blue', 'yellow')\n",
        "print(g[1:])"
      ],
      "metadata": {
        "colab": {
          "base_uri": "https://localhost:8080/"
        },
        "id": "9M6V7PI-GEmS",
        "outputId": "bcb78ddc-3ae7-4434-f6da-c8f7286ce1e5"
      },
      "execution_count": 16,
      "outputs": [
        {
          "output_type": "stream",
          "name": "stdout",
          "text": [
            "('grees', 'blue', 'yellow')\n"
          ]
        }
      ]
    },
    {
      "cell_type": "code",
      "source": [
        "#13.  Write a code to find the minimum number in the tuple (10, 20, 5, 15).\n",
        "h = (10, 20, 5, 15)\n",
        "print(min(h))"
      ],
      "metadata": {
        "colab": {
          "base_uri": "https://localhost:8080/"
        },
        "id": "wRoc22IWGZmg",
        "outputId": "6595266b-d870-4046-e8c9-9896948d5309"
      },
      "execution_count": 23,
      "outputs": [
        {
          "output_type": "stream",
          "name": "stdout",
          "text": [
            "5\n"
          ]
        }
      ]
    },
    {
      "cell_type": "code",
      "source": [
        "#14.  Write a code to find the index of the element \"cat\" in the tuple ('dog', 'cat', 'rabbit').\n",
        "animals = ('dog', 'cat', 'rabbit')\n",
        "print(animals.index('cat'))\n"
      ],
      "metadata": {
        "colab": {
          "base_uri": "https://localhost:8080/"
        },
        "id": "LTAdo-mGG82M",
        "outputId": "a236195b-4428-4712-a993-7260677fe28e"
      },
      "execution_count": 25,
      "outputs": [
        {
          "output_type": "stream",
          "name": "stdout",
          "text": [
            "1\n"
          ]
        }
      ]
    },
    {
      "cell_type": "code",
      "source": [
        "#15. Write a code to create a tuple containing three different fruits and check if \"kiwi\" is in it.\n",
        "fruits = (\"apple\", \"seethafal\", \"watermelon\")\n",
        "if \"kiwi\" in fruits:\n",
        "  print(\"yes kiwi fruit is in tuple\")\n",
        "else:\n",
        "  print(\"no, kiwi fruit is not in tuple\")\n"
      ],
      "metadata": {
        "colab": {
          "base_uri": "https://localhost:8080/"
        },
        "id": "SQSho9vDIBQU",
        "outputId": "659627e1-3b9b-4045-8984-9a0bd34ae751"
      },
      "execution_count": 26,
      "outputs": [
        {
          "output_type": "stream",
          "name": "stdout",
          "text": [
            "no, kiwi fruit is not in tuple\n"
          ]
        }
      ]
    },
    {
      "cell_type": "code",
      "source": [
        "#16.  Write a code to create a set with the elements 'a', 'b', 'c' and print it.\n",
        "my_set = {\"a\", \"b\", \"c\"}\n",
        "print(my_set)"
      ],
      "metadata": {
        "colab": {
          "base_uri": "https://localhost:8080/"
        },
        "id": "Us1rBXHaJk9L",
        "outputId": "97d392d2-22d3-4905-de32-38da7b59a7ba"
      },
      "execution_count": 27,
      "outputs": [
        {
          "output_type": "stream",
          "name": "stdout",
          "text": [
            "{'b', 'a', 'c'}\n"
          ]
        }
      ]
    },
    {
      "cell_type": "code",
      "source": [
        "#17. Write a code to clear all elements from the set {1, 2, 3, 4, 5}.\n",
        "char = {1, 2, 3, 4, 5}\n",
        "char.clear()\n",
        "print(char)\n",
        ""
      ],
      "metadata": {
        "colab": {
          "base_uri": "https://localhost:8080/"
        },
        "id": "N8AiZsbgJ3m1",
        "outputId": "e0c9d3a9-afe4-4d33-d24f-5676f1829857"
      },
      "execution_count": 33,
      "outputs": [
        {
          "output_type": "stream",
          "name": "stdout",
          "text": [
            "set()\n"
          ]
        }
      ]
    },
    {
      "cell_type": "code",
      "source": [
        "#18. Write a code to remove the element 4 from the set {1, 2, 3, 4}.\n",
        "k = {1, 2, 3, 4}\n",
        "k.remove(4)\n",
        "print(k)\n",
        ""
      ],
      "metadata": {
        "colab": {
          "base_uri": "https://localhost:8080/"
        },
        "id": "Qi--RKnBJ_cj",
        "outputId": "e93feddf-558c-4f6f-e065-1f9ef12eca3f"
      },
      "execution_count": 34,
      "outputs": [
        {
          "output_type": "stream",
          "name": "stdout",
          "text": [
            "{1, 2, 3}\n"
          ]
        }
      ]
    },
    {
      "cell_type": "code",
      "source": [
        "#19. Write a code to find the union of two sets {1, 2, 3} and {3, 4, 5}.\n",
        "set1 = {1, 2, 3}\n",
        "set2 = {3, 4,5}\n",
        "union_set = set1.union(set2)\n",
        "print(union_set)"
      ],
      "metadata": {
        "colab": {
          "base_uri": "https://localhost:8080/"
        },
        "id": "C2r9RiDyKBq4",
        "outputId": "9d3a8618-9d1e-4d78-87b0-bb231ee73db4"
      },
      "execution_count": 39,
      "outputs": [
        {
          "output_type": "stream",
          "name": "stdout",
          "text": [
            "{1, 2, 3, 4, 5}\n"
          ]
        }
      ]
    },
    {
      "cell_type": "code",
      "source": [
        "#20. Write a code to find the intersection of two sets {1, 2, 3} and {2, 3, 4}.\n",
        "a = {1, 2, 3}\n",
        "b = {2, 3, 4}\n",
        "intersection = a.intersection(b)\n",
        "print(intersection)\n"
      ],
      "metadata": {
        "colab": {
          "base_uri": "https://localhost:8080/"
        },
        "id": "oeqVHzlpKA-0",
        "outputId": "5a7421a9-86fc-468a-9593-86a58d37a381"
      },
      "execution_count": 40,
      "outputs": [
        {
          "output_type": "stream",
          "name": "stdout",
          "text": [
            "{2, 3}\n"
          ]
        }
      ]
    },
    {
      "cell_type": "code",
      "source": [
        "#21. Write a code to create a dictionary with the keys \"name\", \"age\", and \"city\", and print it.\n",
        "my_dict = {\"name\":\"Ashwini\", \"age\":18, \"city\":\"Banglore\"}\n",
        "print(my_dict)\n",
        ""
      ],
      "metadata": {
        "colab": {
          "base_uri": "https://localhost:8080/"
        },
        "id": "ynxj603KMP57",
        "outputId": "fa535ee1-95e2-47d5-8ffc-f7442f6ebede"
      },
      "execution_count": 42,
      "outputs": [
        {
          "output_type": "stream",
          "name": "stdout",
          "text": [
            "{'name': 'Ashwini', 'age': 18, 'city': 'Banglore'}\n"
          ]
        }
      ]
    },
    {
      "cell_type": "code",
      "source": [
        "#22. Write a code to add a new key-value pair \"country\": \"USA\" to the dictionary {'name': 'John', 'age': 25}.result.(replaced)\n",
        "dict = {\"name\":\"John\", \"Ahe\":25}\n",
        "dict[\"Country\"] = \"USA\"\n",
        "print(dict)\n",
        ""
      ],
      "metadata": {
        "colab": {
          "base_uri": "https://localhost:8080/"
        },
        "id": "JXOaNVzWMawb",
        "outputId": "84deb92a-c869-4ee5-bf7f-4bf45b99af52"
      },
      "execution_count": 43,
      "outputs": [
        {
          "output_type": "stream",
          "name": "stdout",
          "text": [
            "{'name': 'John', 'Ahe': 25, 'Country': 'USA'}\n"
          ]
        }
      ]
    },
    {
      "cell_type": "code",
      "source": [
        "#23. Write a code to access the value associated with the key \"name\" in the dictionary {'name': 'Alice', 'age': 30}.\n",
        "dict1 = {\"name\":\"Alice\", \"age\":30}\n",
        "print(dict1[\"name\"])"
      ],
      "metadata": {
        "colab": {
          "base_uri": "https://localhost:8080/"
        },
        "id": "C9gwjH7XMatE",
        "outputId": "20f2a120-8c25-4e64-afa0-03f5b649bc39"
      },
      "execution_count": 48,
      "outputs": [
        {
          "output_type": "stream",
          "name": "stdout",
          "text": [
            "Alice\n"
          ]
        }
      ]
    },
    {
      "cell_type": "code",
      "source": [
        "#24. Write a code to remove the key \"age\" from the dictionary {'name': 'Bob', 'age': 22, 'city': 'New York'}.\n",
        "dict2 = {'name': 'Bob', 'age': 22, 'city': 'New York'}\n",
        "dict2.pop(\"age\")\n",
        "print(dict2)\n",
        ""
      ],
      "metadata": {
        "colab": {
          "base_uri": "https://localhost:8080/"
        },
        "id": "vrRo0p8_MaqH",
        "outputId": "9ba93f94-b001-44c9-e875-5025b4c384e2"
      },
      "execution_count": 50,
      "outputs": [
        {
          "output_type": "stream",
          "name": "stdout",
          "text": [
            "{'name': 'Bob', 'city': 'New York'}\n"
          ]
        }
      ]
    },
    {
      "cell_type": "code",
      "source": [
        "#25. Write a code to check if the key \"city\" exists in the dictionary {'name': 'Alice', 'city': 'Paris'}.\n",
        "Ash = {'name': 'Alice', 'city': 'Paris'}\n",
        "if \"city\" in Ash:\n",
        "  print(\"key exist\")\n",
        "else:\n",
        "  print(\"key is not existed\")\n"
      ],
      "metadata": {
        "colab": {
          "base_uri": "https://localhost:8080/"
        },
        "id": "LwSQp1rKManZ",
        "outputId": "4449792c-a947-4985-fb07-6b339652395e"
      },
      "execution_count": 52,
      "outputs": [
        {
          "output_type": "stream",
          "name": "stdout",
          "text": [
            "key exist\n"
          ]
        }
      ]
    },
    {
      "cell_type": "code",
      "source": [
        "#26. Write a code to create a list, a tuple, and a dictionary, and print them all.\n",
        "my_list1 = [1, 2, 3, 5, 45]\n",
        "my_dict1 = {\"name\":\"AShwini\", \"age\":18}\n",
        "my_tuple1 = (\"Ashwini\",\"Shreya\", \"Bhagyashree\")\n",
        "print(my_list1)\n",
        "print(my_dict1)\n",
        "print(my_tuple1)\n"
      ],
      "metadata": {
        "colab": {
          "base_uri": "https://localhost:8080/"
        },
        "id": "izgkItBeMab1",
        "outputId": "5a2bb9ef-db06-4e05-9bd3-cbdfc660953e"
      },
      "execution_count": 59,
      "outputs": [
        {
          "output_type": "stream",
          "name": "stdout",
          "text": [
            "[1, 2, 3, 5, 45]\n",
            "{'name': 'AShwini', 'age': 18}\n",
            "('Ashwini', 'Shreya', 'Bhagyashree')\n"
          ]
        }
      ]
    },
    {
      "cell_type": "code",
      "source": [
        "#27. Write a code to create a list of 5 random numbers between 1 and 100, sort it in ascending order, and print the result.(replaced)\n",
        "import random\n",
        "\n",
        "numbers = [random.randint(1, 100) for i in range(5)]\n",
        "\n",
        "numbers.sort()\n",
        "print(numbers)\n"
      ],
      "metadata": {
        "colab": {
          "base_uri": "https://localhost:8080/"
        },
        "id": "-dJU-5NDQzi8",
        "outputId": "98fb0237-d05b-4b59-d6f5-167cf34775e0"
      },
      "execution_count": 65,
      "outputs": [
        {
          "output_type": "stream",
          "name": "stdout",
          "text": [
            "[17, 19, 43, 44, 95]\n"
          ]
        }
      ]
    },
    {
      "cell_type": "code",
      "source": [
        "#28. Write a code to create a list with strings and print the element at the third index.\n",
        "u = [\"mango\", \"guava\", \"dragon\", \"seethafal\", \"orange\"]\n",
        "print(u[3])\n"
      ],
      "metadata": {
        "colab": {
          "base_uri": "https://localhost:8080/"
        },
        "id": "1gdyoDpNRnop",
        "outputId": "cedf1963-c48f-4a0d-d9bb-7923f4334e8d"
      },
      "execution_count": 67,
      "outputs": [
        {
          "output_type": "stream",
          "name": "stdout",
          "text": [
            "seethafal\n"
          ]
        }
      ]
    },
    {
      "cell_type": "code",
      "source": [
        "#29. Write a code to combine two dictionaries into one and print the result.\n",
        "dec1 = {\"name\":\"Ashwini\", \"age\":18}\n",
        "dec2 = {\"class\":\"BE 1st year\", \"coorse\":\"CSE\"}\n",
        "dec1.update(dec2)\n",
        "print(dec1)\n",
        ""
      ],
      "metadata": {
        "colab": {
          "base_uri": "https://localhost:8080/"
        },
        "id": "nGzaTBSBRncZ",
        "outputId": "18174fa8-6559-4294-dfb8-e3735ffeacb7"
      },
      "execution_count": 71,
      "outputs": [
        {
          "output_type": "stream",
          "name": "stdout",
          "text": [
            "{'name': 'Ashwini', 'age': 18, 'class': 'BE 1st year', 'coorse': 'CSE'}\n"
          ]
        }
      ]
    },
    {
      "cell_type": "code",
      "source": [
        "#30. Write a code to convert a list of strings into a set.\n",
        "thing = [\"ball\", \"cricket\", \"koko\", \"running\"]\n",
        "things_set = set(thing)\n",
        "print(things_set)"
      ],
      "metadata": {
        "colab": {
          "base_uri": "https://localhost:8080/"
        },
        "id": "KiRM6BA1RnEe",
        "outputId": "6898698b-c595-4b22-98ac-08dd8261678a"
      },
      "execution_count": 73,
      "outputs": [
        {
          "output_type": "stream",
          "name": "stdout",
          "text": [
            "{'cricket', 'koko', 'ball', 'running'}\n"
          ]
        }
      ]
    },
    {
      "cell_type": "code",
      "source": [],
      "metadata": {
        "id": "yj88xr-IYMSY"
      },
      "execution_count": null,
      "outputs": []
    }
  ]
}